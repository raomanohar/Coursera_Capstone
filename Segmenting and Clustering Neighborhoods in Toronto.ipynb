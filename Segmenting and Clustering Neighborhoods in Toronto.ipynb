{
    "nbformat_minor": 1, 
    "cells": [
        {
            "source": "#                          Segmenting and Clustering Neighborhoods in Toronto", 
            "cell_type": "markdown", 
            "metadata": {}
        }, 
        {
            "source": "## Importing all Libraries before I start.", 
            "cell_type": "markdown", 
            "metadata": {}
        }, 
        {
            "source": "import numpy as np # library to handle data in a vectorized manner\n\nimport pandas as pd # library for data analsysis\npd.set_option('display.max_columns', None)\npd.set_option('display.max_rows', None)\n\nimport json # library to handle JSON files\n\n!conda install -c conda-forge geopy --yes # uncomment this line if you haven't completed the Foursquare API lab\nfrom geopy.geocoders import Nominatim # convert an address into latitude and longitude values\n\nimport requests # library to handle requests\nfrom pandas.io.json import json_normalize # tranform JSON file into a pandas dataframe\n\n# Matplotlib and associated plotting modules\nimport matplotlib.cm as cm\nimport matplotlib.colors as colors\n\n# import k-means from clustering stage\nfrom sklearn.cluster import KMeans\n\n!conda install -c conda-forge folium=0.5.0 --yes # uncomment this line if you haven't completed the Foursquare API lab\nimport folium # map rendering library\n\nprint('Libraries imported.')", 
            "cell_type": "code", 
            "metadata": {}, 
            "outputs": [], 
            "execution_count": 60
        }, 
        {
            "source": "### Obtaining the HTML Code for the webpage which contains the Canada Neighbourhood data [Link](https://en.wikipedia.org/wiki/List_of_postal_codes_of_Canada:_M)", 
            "cell_type": "markdown", 
            "metadata": {}
        }, 
        {
            "source": "source = requests.get(\"https://en.wikipedia.org/wiki/List_of_postal_codes_of_Canada:_M\").text", 
            "cell_type": "code", 
            "metadata": {}, 
            "outputs": [], 
            "execution_count": 61
        }, 
        {
            "source": "### BeautifulSoup needs quite a bit of coding to parse the table but it can be done in pandas prety easy hence using Pandas to parse the table from the webpage", 
            "cell_type": "markdown", 
            "metadata": {}
        }, 
        {
            "source": "The below code gives me a list of the table as displayed", 
            "cell_type": "markdown", 
            "metadata": {}
        }, 
        {
            "source": "dfs = pd.read_html(source,header=0)\ntype(dfs)\ndfs", 
            "cell_type": "code", 
            "metadata": {}, 
            "outputs": [
                {
                    "output_type": "execute_result", 
                    "data": {
                        "text/plain": "[    Postcode           Borough  \\\n 0        M1A      Not assigned   \n 1        M2A      Not assigned   \n 2        M3A        North York   \n 3        M4A        North York   \n 4        M5A  Downtown Toronto   \n 5        M5A  Downtown Toronto   \n 6        M6A        North York   \n 7        M6A        North York   \n 8        M7A      Queen's Park   \n 9        M8A      Not assigned   \n 10       M9A         Etobicoke   \n 11       M1B       Scarborough   \n 12       M1B       Scarborough   \n 13       M2B      Not assigned   \n 14       M3B        North York   \n 15       M4B         East York   \n 16       M4B         East York   \n 17       M5B  Downtown Toronto   \n 18       M5B  Downtown Toronto   \n 19       M6B        North York   \n 20       M7B      Not assigned   \n 21       M8B      Not assigned   \n 22       M9B         Etobicoke   \n 23       M9B         Etobicoke   \n 24       M9B         Etobicoke   \n 25       M9B         Etobicoke   \n 26       M9B         Etobicoke   \n 27       M1C       Scarborough   \n 28       M1C       Scarborough   \n 29       M1C       Scarborough   \n ..       ...               ...   \n 259      M9X      Not assigned   \n 260      M1Y      Not assigned   \n 261      M2Y      Not assigned   \n 262      M3Y      Not assigned   \n 263      M4Y  Downtown Toronto   \n 264      M5Y      Not assigned   \n 265      M6Y      Not assigned   \n 266      M7Y      East Toronto   \n 267      M8Y         Etobicoke   \n 268      M8Y         Etobicoke   \n 269      M8Y         Etobicoke   \n 270      M8Y         Etobicoke   \n 271      M8Y         Etobicoke   \n 272      M8Y         Etobicoke   \n 273      M8Y         Etobicoke   \n 274      M8Y         Etobicoke   \n 275      M9Y      Not assigned   \n 276      M1Z      Not assigned   \n 277      M2Z      Not assigned   \n 278      M3Z      Not assigned   \n 279      M4Z      Not assigned   \n 280      M5Z      Not assigned   \n 281      M6Z      Not assigned   \n 282      M7Z      Not assigned   \n 283      M8Z         Etobicoke   \n 284      M8Z         Etobicoke   \n 285      M8Z         Etobicoke   \n 286      M8Z         Etobicoke   \n 287      M8Z         Etobicoke   \n 288      M9Z      Not assigned   \n \n                                          Neighbourhood  \n 0                                         Not assigned  \n 1                                         Not assigned  \n 2                                            Parkwoods  \n 3                                     Victoria Village  \n 4                                         Harbourfront  \n 5                                          Regent Park  \n 6                                     Lawrence Heights  \n 7                                       Lawrence Manor  \n 8                                         Not assigned  \n 9                                         Not assigned  \n 10                                    Islington Avenue  \n 11                                               Rouge  \n 12                                             Malvern  \n 13                                        Not assigned  \n 14                                     Don Mills North  \n 15                                    Woodbine Gardens  \n 16                                       Parkview Hill  \n 17                                             Ryerson  \n 18                                     Garden District  \n 19                                           Glencairn  \n 20                                        Not assigned  \n 21                                        Not assigned  \n 22                                          Cloverdale  \n 23                                           Islington  \n 24                                        Martin Grove  \n 25                                    Princess Gardens  \n 26                                     West Deane Park  \n 27                                      Highland Creek  \n 28                                          Rouge Hill  \n 29                                          Port Union  \n ..                                                 ...  \n 259                                       Not assigned  \n 260                                       Not assigned  \n 261                                       Not assigned  \n 262                                       Not assigned  \n 263                               Church and Wellesley  \n 264                                       Not assigned  \n 265                                       Not assigned  \n 266  Business Reply Mail Processing Centre 969 Eastern  \n 267                                         Humber Bay  \n 268                                   King's Mill Park  \n 269                           Kingsway Park South East  \n 270                                          Mimico NE  \n 271                                     Old Mill South  \n 272                                 The Queensway East  \n 273                              Royal York South East  \n 274                                           Sunnylea  \n 275                                       Not assigned  \n 276                                       Not assigned  \n 277                                       Not assigned  \n 278                                       Not assigned  \n 279                                       Not assigned  \n 280                                       Not assigned  \n 281                                       Not assigned  \n 282                                       Not assigned  \n 283                           Kingsway Park South West  \n 284                                          Mimico NW  \n 285                                 The Queensway West  \n 286                              Royal York South West  \n 287                                     South of Bloor  \n 288                                       Not assigned  \n \n [289 rows x 3 columns],\n                                           Unnamed: 0 Canadian postal codes  \\\n 0  NL NS PE NB QC ON MB SK AB BC NU/NT YT A B C E...                    NL   \n 1                                                 NL                    NS   \n 2                                                  A                     B   \n \n   Unnamed: 2 Unnamed: 3 Unnamed: 4 Unnamed: 5 Unnamed: 6 Unnamed: 7  \\\n 0         NS         PE         NB         QC         ON         MB   \n 1         PE         NB         QC         ON         MB         SK   \n 2          C          E          G          H          J          K   \n \n   Unnamed: 8 Unnamed: 9     ...     Unnamed: 21 Unnamed: 22 Unnamed: 23  \\\n 0         SK         AB     ...               L           M           N   \n 1         AB         BC     ...             NaN         NaN         NaN   \n 2          L          M     ...             NaN         NaN         NaN   \n \n   Unnamed: 24 Unnamed: 25 Unnamed: 26 Unnamed: 27 Unnamed: 28 Unnamed: 29  \\\n 0           P           R           S           T           V           X   \n 1         NaN         NaN         NaN         NaN         NaN         NaN   \n 2         NaN         NaN         NaN         NaN         NaN         NaN   \n \n   Unnamed: 30  \n 0           Y  \n 1         NaN  \n 2         NaN  \n \n [3 rows x 31 columns],\n   NL NS PE NB QC ON MB SK AB BC NU/NT YT Unnamed: 12 Unnamed: 13 Unnamed: 14  \\\n 0  A  B  C  E  G  H  J  K  L  M     N  P           R           S           T   \n \n   Unnamed: 15 Unnamed: 16 Unnamed: 17  \n 0           V           X           Y  ]"
                    }, 
                    "execution_count": 190, 
                    "metadata": {}
                }
            ], 
            "execution_count": 190
        }, 
        {
            "source": "Converting the list to a DataFrame and displaying the head of the Dataframe", 
            "cell_type": "markdown", 
            "metadata": {}
        }, 
        {
            "source": "Canada_df = dfs[0]\nCanada_df.head()", 
            "cell_type": "code", 
            "metadata": {}, 
            "outputs": [
                {
                    "output_type": "execute_result", 
                    "data": {
                        "text/html": "<div>\n<style scoped>\n    .dataframe tbody tr th:only-of-type {\n        vertical-align: middle;\n    }\n\n    .dataframe tbody tr th {\n        vertical-align: top;\n    }\n\n    .dataframe thead th {\n        text-align: right;\n    }\n</style>\n<table border=\"1\" class=\"dataframe\">\n  <thead>\n    <tr style=\"text-align: right;\">\n      <th></th>\n      <th>Postcode</th>\n      <th>Borough</th>\n      <th>Neighbourhood</th>\n    </tr>\n  </thead>\n  <tbody>\n    <tr>\n      <th>0</th>\n      <td>M1A</td>\n      <td>Not assigned</td>\n      <td>Not assigned</td>\n    </tr>\n    <tr>\n      <th>1</th>\n      <td>M2A</td>\n      <td>Not assigned</td>\n      <td>Not assigned</td>\n    </tr>\n    <tr>\n      <th>2</th>\n      <td>M3A</td>\n      <td>North York</td>\n      <td>Parkwoods</td>\n    </tr>\n    <tr>\n      <th>3</th>\n      <td>M4A</td>\n      <td>North York</td>\n      <td>Victoria Village</td>\n    </tr>\n    <tr>\n      <th>4</th>\n      <td>M5A</td>\n      <td>Downtown Toronto</td>\n      <td>Harbourfront</td>\n    </tr>\n  </tbody>\n</table>\n</div>", 
                        "text/plain": "  Postcode           Borough     Neighbourhood\n0      M1A      Not assigned      Not assigned\n1      M2A      Not assigned      Not assigned\n2      M3A        North York         Parkwoods\n3      M4A        North York  Victoria Village\n4      M5A  Downtown Toronto      Harbourfront"
                    }, 
                    "execution_count": 191, 
                    "metadata": {}
                }
            ], 
            "execution_count": 191
        }, 
        {
            "source": "#Check the current shape of the DataFrame\nCanada_df.shape", 
            "cell_type": "code", 
            "metadata": {}, 
            "outputs": [
                {
                    "output_type": "execute_result", 
                    "data": {
                        "text/plain": "(289, 3)"
                    }, 
                    "execution_count": 194, 
                    "metadata": {}
                }
            ], 
            "execution_count": 194
        }, 
        {
            "source": "The below code filters out rows from **Borough** which contain **Not assigned**", 
            "cell_type": "markdown", 
            "metadata": {}
        }, 
        {
            "source": "CDF = Canada_df[~Canada_df.Borough.str.contains(\"Not assigned\")]\nCDF.head()", 
            "cell_type": "code", 
            "metadata": {}, 
            "outputs": [
                {
                    "output_type": "execute_result", 
                    "data": {
                        "text/html": "<div>\n<style scoped>\n    .dataframe tbody tr th:only-of-type {\n        vertical-align: middle;\n    }\n\n    .dataframe tbody tr th {\n        vertical-align: top;\n    }\n\n    .dataframe thead th {\n        text-align: right;\n    }\n</style>\n<table border=\"1\" class=\"dataframe\">\n  <thead>\n    <tr style=\"text-align: right;\">\n      <th></th>\n      <th>Postcode</th>\n      <th>Borough</th>\n      <th>Neighbourhood</th>\n    </tr>\n  </thead>\n  <tbody>\n    <tr>\n      <th>2</th>\n      <td>M3A</td>\n      <td>North York</td>\n      <td>Parkwoods</td>\n    </tr>\n    <tr>\n      <th>3</th>\n      <td>M4A</td>\n      <td>North York</td>\n      <td>Victoria Village</td>\n    </tr>\n    <tr>\n      <th>4</th>\n      <td>M5A</td>\n      <td>Downtown Toronto</td>\n      <td>Harbourfront</td>\n    </tr>\n    <tr>\n      <th>5</th>\n      <td>M5A</td>\n      <td>Downtown Toronto</td>\n      <td>Regent Park</td>\n    </tr>\n    <tr>\n      <th>6</th>\n      <td>M6A</td>\n      <td>North York</td>\n      <td>Lawrence Heights</td>\n    </tr>\n  </tbody>\n</table>\n</div>", 
                        "text/plain": "  Postcode           Borough     Neighbourhood\n2      M3A        North York         Parkwoods\n3      M4A        North York  Victoria Village\n4      M5A  Downtown Toronto      Harbourfront\n5      M5A  Downtown Toronto       Regent Park\n6      M6A        North York  Lawrence Heights"
                    }, 
                    "execution_count": 195, 
                    "metadata": {}
                }
            ], 
            "execution_count": 195
        }, 
        {
            "source": "#Shape shows that rows with Not assigned in Brough has been dropped\nCDF.shape", 
            "cell_type": "code", 
            "metadata": {}, 
            "outputs": [
                {
                    "output_type": "execute_result", 
                    "data": {
                        "text/plain": "(212, 3)"
                    }, 
                    "execution_count": 124, 
                    "metadata": {}
                }
            ], 
            "execution_count": 124
        }, 
        {
            "source": "#Creating a copy of the Dataframe\nCDF2 = CDF", 
            "cell_type": "code", 
            "metadata": {}, 
            "outputs": [], 
            "execution_count": 196
        }, 
        {
            "source": "### Grouping data by the Postcode and Borough", 
            "cell_type": "markdown", 
            "metadata": {}
        }, 
        {
            "source": "## Initially I am grouping the data by the first two columns and applying the join function to concat the strings to once \n## cell in Neighbourhood column\nCanada_Series = CDF2.groupby(['Postcode','Borough'])['Neighbourhood'].apply(lambda x: \"%s\" % ', '.join(x)) ##\ntype(Canada_Series)\n## o/p will be a pandas series", 
            "cell_type": "code", 
            "metadata": {
                "scrolled": true
            }, 
            "outputs": [
                {
                    "output_type": "execute_result", 
                    "data": {
                        "text/plain": "pandas.core.series.Series"
                    }, 
                    "execution_count": 199, 
                    "metadata": {}
                }
            ], 
            "execution_count": 199
        }, 
        {
            "source": "## Converting the Pd series to a Dataframe\nCDF3 = Canada_Series.to_frame()\nCDF3.reset_index(level=['Postcode','Borough'], inplace=True) #Resetting the index \nCDF3.head()", 
            "cell_type": "code", 
            "metadata": {}, 
            "outputs": [
                {
                    "output_type": "execute_result", 
                    "data": {
                        "text/html": "<div>\n<style scoped>\n    .dataframe tbody tr th:only-of-type {\n        vertical-align: middle;\n    }\n\n    .dataframe tbody tr th {\n        vertical-align: top;\n    }\n\n    .dataframe thead th {\n        text-align: right;\n    }\n</style>\n<table border=\"1\" class=\"dataframe\">\n  <thead>\n    <tr style=\"text-align: right;\">\n      <th></th>\n      <th>Postcode</th>\n      <th>Borough</th>\n      <th>Neighbourhood</th>\n    </tr>\n  </thead>\n  <tbody>\n    <tr>\n      <th>0</th>\n      <td>M1B</td>\n      <td>Scarborough</td>\n      <td>Rouge, Malvern</td>\n    </tr>\n    <tr>\n      <th>1</th>\n      <td>M1C</td>\n      <td>Scarborough</td>\n      <td>Highland Creek, Rouge Hill, Port Union</td>\n    </tr>\n    <tr>\n      <th>2</th>\n      <td>M1E</td>\n      <td>Scarborough</td>\n      <td>Guildwood, Morningside, West Hill</td>\n    </tr>\n    <tr>\n      <th>3</th>\n      <td>M1G</td>\n      <td>Scarborough</td>\n      <td>Woburn</td>\n    </tr>\n    <tr>\n      <th>4</th>\n      <td>M1H</td>\n      <td>Scarborough</td>\n      <td>Cedarbrae</td>\n    </tr>\n  </tbody>\n</table>\n</div>", 
                        "text/plain": "  Postcode      Borough                           Neighbourhood\n0      M1B  Scarborough                          Rouge, Malvern\n1      M1C  Scarborough  Highland Creek, Rouge Hill, Port Union\n2      M1E  Scarborough       Guildwood, Morningside, West Hill\n3      M1G  Scarborough                                  Woburn\n4      M1H  Scarborough                               Cedarbrae"
                    }, 
                    "execution_count": 200, 
                    "metadata": {}
                }
            ], 
            "execution_count": 200
        }, 
        {
            "source": "### Checking if there are any \"Not assigned\" values in the \"Neighbourhood\" Column", 
            "cell_type": "markdown", 
            "metadata": {}
        }, 
        {
            "source": "CDF4 = CDF3[CDF3.Neighbourhood.str.contains(\"Not assigned\")]\nCDF4 # Found one row", 
            "cell_type": "code", 
            "metadata": {}, 
            "outputs": [
                {
                    "output_type": "execute_result", 
                    "data": {
                        "text/html": "<div>\n<style scoped>\n    .dataframe tbody tr th:only-of-type {\n        vertical-align: middle;\n    }\n\n    .dataframe tbody tr th {\n        vertical-align: top;\n    }\n\n    .dataframe thead th {\n        text-align: right;\n    }\n</style>\n<table border=\"1\" class=\"dataframe\">\n  <thead>\n    <tr style=\"text-align: right;\">\n      <th></th>\n      <th>Postcode</th>\n      <th>Borough</th>\n      <th>Neighbourhood</th>\n    </tr>\n  </thead>\n  <tbody>\n    <tr>\n      <th>85</th>\n      <td>M7A</td>\n      <td>Queen's Park</td>\n      <td>Not assigned</td>\n    </tr>\n  </tbody>\n</table>\n</div>", 
                        "text/plain": "   Postcode       Borough Neighbourhood\n85      M7A  Queen's Park  Not assigned"
                    }, 
                    "execution_count": 201, 
                    "metadata": {}
                }
            ], 
            "execution_count": 201
        }, 
        {
            "source": "As there was only one row with Not assigned value changing the changing the vaule manually.", 
            "cell_type": "markdown", 
            "metadata": {}
        }, 
        {
            "source": "CDF3.loc[85,'Neighbourhood'] = CDF3.loc[85,'Borough'] #Copying the vaule in Borough to Neighbourhood\n#Displaying the changes\nCDF3.loc[85]", 
            "cell_type": "code", 
            "metadata": {}, 
            "outputs": [
                {
                    "output_type": "execute_result", 
                    "data": {
                        "text/plain": "Postcode                  M7A\nBorough          Queen's Park\nNeighbourhood    Queen's Park\nName: 85, dtype: object"
                    }, 
                    "execution_count": 204, 
                    "metadata": {}
                }
            ], 
            "execution_count": 204
        }, 
        {
            "source": "## Loading the Geospatial Coordinates data to a dataframe", 
            "cell_type": "markdown", 
            "metadata": {}
        }, 
        {
            "source": "datapath = \"http://cocl.us/Geospatial_data\"\ngeospac = pd.read_csv(datapath)\ngeospac.head()", 
            "cell_type": "code", 
            "metadata": {}, 
            "outputs": [], 
            "execution_count": null
        }, 
        {
            "source": "### Now as the data is loaded to a DF. I am Merging the two DataFrames into one.", 
            "cell_type": "markdown", 
            "metadata": {}
        }, 
        {
            "source": "# The merge function lets me merge two dataframe on an same column with same data.\ndfinal = CDF3.merge(geospac, how = 'inner',left_on='Postcode', right_on='Postal Code')\ndfinal = dfinal.drop(labels='Postal Code',axis=1) # as the above line adds both the columns dropping one of the column\ndfinal.head()", 
            "cell_type": "code", 
            "metadata": {}, 
            "outputs": [
                {
                    "output_type": "execute_result", 
                    "data": {
                        "text/html": "<div>\n<style scoped>\n    .dataframe tbody tr th:only-of-type {\n        vertical-align: middle;\n    }\n\n    .dataframe tbody tr th {\n        vertical-align: top;\n    }\n\n    .dataframe thead th {\n        text-align: right;\n    }\n</style>\n<table border=\"1\" class=\"dataframe\">\n  <thead>\n    <tr style=\"text-align: right;\">\n      <th></th>\n      <th>Postcode</th>\n      <th>Borough</th>\n      <th>Neighbourhood</th>\n      <th>Latitude</th>\n      <th>Longitude</th>\n    </tr>\n  </thead>\n  <tbody>\n    <tr>\n      <th>0</th>\n      <td>M1B</td>\n      <td>Scarborough</td>\n      <td>Rouge, Malvern</td>\n      <td>43.806686</td>\n      <td>-79.194353</td>\n    </tr>\n    <tr>\n      <th>1</th>\n      <td>M1C</td>\n      <td>Scarborough</td>\n      <td>Highland Creek, Rouge Hill, Port Union</td>\n      <td>43.784535</td>\n      <td>-79.160497</td>\n    </tr>\n    <tr>\n      <th>2</th>\n      <td>M1E</td>\n      <td>Scarborough</td>\n      <td>Guildwood, Morningside, West Hill</td>\n      <td>43.763573</td>\n      <td>-79.188711</td>\n    </tr>\n    <tr>\n      <th>3</th>\n      <td>M1G</td>\n      <td>Scarborough</td>\n      <td>Woburn</td>\n      <td>43.770992</td>\n      <td>-79.216917</td>\n    </tr>\n    <tr>\n      <th>4</th>\n      <td>M1H</td>\n      <td>Scarborough</td>\n      <td>Cedarbrae</td>\n      <td>43.773136</td>\n      <td>-79.239476</td>\n    </tr>\n  </tbody>\n</table>\n</div>", 
                        "text/plain": "  Postcode      Borough                           Neighbourhood   Latitude  \\\n0      M1B  Scarborough                          Rouge, Malvern  43.806686   \n1      M1C  Scarborough  Highland Creek, Rouge Hill, Port Union  43.784535   \n2      M1E  Scarborough       Guildwood, Morningside, West Hill  43.763573   \n3      M1G  Scarborough                                  Woburn  43.770992   \n4      M1H  Scarborough                               Cedarbrae  43.773136   \n\n   Longitude  \n0 -79.194353  \n1 -79.160497  \n2 -79.188711  \n3 -79.216917  \n4 -79.239476  "
                    }, 
                    "execution_count": 207, 
                    "metadata": {}
                }
            ], 
            "execution_count": 207
        }, 
        {
            "source": "#### Displaying the shape of the Data Frame", 
            "cell_type": "markdown", 
            "metadata": {}
        }, 
        {
            "source": "dfinal.shape", 
            "cell_type": "code", 
            "metadata": {}, 
            "outputs": [
                {
                    "output_type": "execute_result", 
                    "data": {
                        "text/plain": "(103, 5)"
                    }, 
                    "execution_count": 208, 
                    "metadata": {}
                }
            ], 
            "execution_count": 208
        }
    ], 
    "metadata": {
        "kernelspec": {
            "display_name": "Python 3.5", 
            "name": "python3", 
            "language": "python"
        }, 
        "language_info": {
            "mimetype": "text/x-python", 
            "nbconvert_exporter": "python", 
            "version": "3.5.5", 
            "name": "python", 
            "file_extension": ".py", 
            "pygments_lexer": "ipython3", 
            "codemirror_mode": {
                "version": 3, 
                "name": "ipython"
            }
        }
    }, 
    "nbformat": 4
}